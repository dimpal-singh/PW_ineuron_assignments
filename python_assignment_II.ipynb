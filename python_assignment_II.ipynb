{
 "cells": [
  {
   "cell_type": "markdown",
   "id": "dc012ef2-f78c-4075-afd2-6fb26c26b293",
   "metadata": {},
   "source": [
    "To sort the given list of tuples based on the integer value (the second element of each tuple) using a lambda function, you can use the sorted function with a custom lambda key function. "
   ]
  },
  {
   "cell_type": "code",
   "execution_count": 3,
   "id": "69f079f4-001e-4c02-9515-817a2fabdead",
   "metadata": {},
   "outputs": [
    {
     "name": "stdout",
     "output_type": "stream",
     "text": [
      "('Virat Kohli', 24936)\n",
      "('Jack Kallis', 25534)\n",
      "('Ricky Ponting', 27483)\n",
      "('Sachin Tendulkar', 34357)\n"
     ]
    }
   ],
   "source": [
    "# List of tuples\n",
    "my_list = [('Sachin Tendulkar', 34357), ('Ricky Ponting', 27483), ('Jack Kallis', 25534), ('Virat Kohli', 24936)]\n",
    "\n",
    "# Sort the list based on the integer value (second element of each tuple)\n",
    "sorted_list = sorted(my_list, key=lambda x: x[1])\n",
    "\n",
    "# Print the sorted list\n",
    "for item in sorted_list:\n",
    "    print(item)\n"
   ]
  },
  {
   "cell_type": "markdown",
   "id": "0623b8cc-fe31-487a-a53d-3b7521489726",
   "metadata": {},
   "source": [
    "we can use the map function along with a lambda function to find the squares of all the numbers in the given list of integers."
   ]
  },
  {
   "cell_type": "code",
   "execution_count": 4,
   "id": "4cc295cb-f337-42ae-8e10-a34264ffd081",
   "metadata": {},
   "outputs": [
    {
     "name": "stdout",
     "output_type": "stream",
     "text": [
      "[1, 4, 9, 16, 25, 36, 49, 64, 81, 100]\n"
     ]
    }
   ],
   "source": [
    "# List of integers\n",
    "my_list = [1, 2, 3, 4, 5, 6, 7, 8, 9, 10]\n",
    "\n",
    "# Use map and a lambda function to find squares\n",
    "squared_list = list(map(lambda x: x**2, my_list))\n",
    "\n",
    "# Print the squared list\n",
    "print(squared_list)\n"
   ]
  },
  {
   "cell_type": "markdown",
   "id": "2b265b1d-cc51-4b92-a327-fa5082188a94",
   "metadata": {},
   "source": [
    "We can use the map function along with a lambda function to convert the given list of integers into a tuple of strings. "
   ]
  },
  {
   "cell_type": "code",
   "execution_count": 5,
   "id": "b4d796f5-56e8-4e9c-9597-b97f70af2b4e",
   "metadata": {},
   "outputs": [
    {
     "name": "stdout",
     "output_type": "stream",
     "text": [
      "('1', '2', '3', '4', '5', '6', '7', '8', '9', '10')\n"
     ]
    }
   ],
   "source": [
    "# List of integers\n",
    "my_list = [1, 2, 3, 4, 5, 6, 7, 8, 9, 10]\n",
    "\n",
    "# Use map and a lambda function to convert integers to strings\n",
    "string_tuple = tuple(map(lambda x: str(x), my_list))\n",
    "\n",
    "# Print the tuple of strings\n",
    "print(string_tuple)\n"
   ]
  },
  {
   "cell_type": "markdown",
   "id": "3c3326ac-0990-4bee-aaa2-5ef012b6d74d",
   "metadata": {},
   "source": [
    "We can use the reduce function from the functools module along with a lambda function to compute the product of a list containing numbers from 1 to 25. "
   ]
  },
  {
   "cell_type": "code",
   "execution_count": 6,
   "id": "63ecd260-f5a6-43d9-b72c-1d70bc678dba",
   "metadata": {},
   "outputs": [
    {
     "name": "stdout",
     "output_type": "stream",
     "text": [
      "The product of numbers from 1 to 25 is: 15511210043330985984000000\n"
     ]
    }
   ],
   "source": [
    "from functools import reduce\n",
    "\n",
    "# Create a list containing numbers from 1 to 25\n",
    "my_list = list(range(1, 26))\n",
    "\n",
    "# Use reduce and a lambda function to compute the product\n",
    "product = reduce(lambda x, y: x * y, my_list)\n",
    "\n",
    "# Print the product\n",
    "print(\"The product of numbers from 1 to 25 is:\", product)\n"
   ]
  },
  {
   "cell_type": "markdown",
   "id": "b093cd20-85aa-49a7-953f-eb8571356875",
   "metadata": {},
   "source": [
    "We can use the filter function to filter the numbers in a given list that are divisible by both 2 and 3."
   ]
  },
  {
   "cell_type": "code",
   "execution_count": 7,
   "id": "a6b42540-965d-4946-9b93-bafe179f3630",
   "metadata": {},
   "outputs": [
    {
     "name": "stdout",
     "output_type": "stream",
     "text": [
      "[6, 60, 90, 120]\n"
     ]
    }
   ],
   "source": [
    "# List of numbers\n",
    "my_list = [2, 3, 6, 9, 27, 60, 90, 120, 55, 46]\n",
    "\n",
    "# Use filter and a lambda function to filter numbers divisible by 2 and 3\n",
    "filtered_numbers = list(filter(lambda x: x % 2 == 0 and x % 3 == 0, my_list))\n",
    "\n",
    "# Print the filtered numbers\n",
    "print(filtered_numbers)\n"
   ]
  },
  {
   "cell_type": "markdown",
   "id": "bb64a7e3-23df-4635-82be-0efb1af1a852",
   "metadata": {},
   "source": [
    "We can use the filter function along with a lambda function to find palindromes in the given list of strings. "
   ]
  },
  {
   "cell_type": "code",
   "execution_count": null,
   "id": "a77442a9-3d57-4e95-a391-71668df026c9",
   "metadata": {},
   "outputs": [],
   "source": []
  }
 ],
 "metadata": {
  "kernelspec": {
   "display_name": "Python 3 (ipykernel)",
   "language": "python",
   "name": "python3"
  },
  "language_info": {
   "codemirror_mode": {
    "name": "ipython",
    "version": 3
   },
   "file_extension": ".py",
   "mimetype": "text/x-python",
   "name": "python",
   "nbconvert_exporter": "python",
   "pygments_lexer": "ipython3",
   "version": "3.10.8"
  }
 },
 "nbformat": 4,
 "nbformat_minor": 5
}
