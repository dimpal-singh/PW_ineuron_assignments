{
 "cells": [
  {
   "cell_type": "markdown",
   "id": "b2c7f447-64ef-47f8-8b1d-4c60df88fc23",
   "metadata": {},
   "source": [
    "Assignment Functions 1\n",
    "\n",
    "domain : Data Science"
   ]
  },
  {
   "cell_type": "markdown",
   "id": "16d49238-2aee-47a8-8175-f9f708c05050",
   "metadata": {},
   "source": [
    "Q1. Which keyword is used to create a function? Create a function to return a list of odd numbers in the\n",
    "range of 1 to 25."
   ]
  },
  {
   "cell_type": "markdown",
   "id": "ac60cd29-f797-4ba6-81bc-fd6d82f231a9",
   "metadata": {},
   "source": [
    "Ans:  the keyword used to create a function is typically \"def\" (short for \"define\"). "
   ]
  },
  {
   "cell_type": "code",
   "execution_count": 3,
   "id": "051c71fc-864b-44e9-80ae-77016a4089c1",
   "metadata": {},
   "outputs": [
    {
     "name": "stdout",
     "output_type": "stream",
     "text": [
      "[1, 3, 5, 7, 9, 11, 13, 15, 17, 19, 21, 23, 25]\n"
     ]
    }
   ],
   "source": [
    "def get_odd_numbers():\n",
    "    odd_numbers = []\n",
    "    for number in range(1, 26):\n",
    "        if number % 2 != 0:\n",
    "            odd_numbers.append(number)\n",
    "    return odd_numbers\n",
    "\n",
    "result = get_odd_numbers()\n",
    "print(result)\n"
   ]
  },
  {
   "cell_type": "markdown",
   "id": "55c42786-f4e9-4fcc-840a-7ca1a9b876c9",
   "metadata": {},
   "source": [
    "get_odd_numbers() is defined using the \"def\" keyword. This function calculates and returns a list of odd numbers in the range of 1 to 25. The code then calls the function and prints the resulting list of odd numbers."
   ]
  },
  {
   "cell_type": "markdown",
   "id": "28eae51e-4df9-4666-86f0-8157e3c89353",
   "metadata": {},
   "source": [
    "Q2. Why *args and **kwargs is used in some functions? Create a function each for *args and **kwargs\n",
    "to demonstrate their use."
   ]
  },
  {
   "cell_type": "markdown",
   "id": "51933d74-caee-424a-b91d-68e1d1d64d48",
   "metadata": {},
   "source": [
    "*args and **kwargs are used in Python functions to handle a variable number of arguments. They provide flexibility when you're not sure how many arguments will be passed to a function."
   ]
  },
  {
   "cell_type": "markdown",
   "id": "c7298270-1490-4519-8fcf-47e7f354769f",
   "metadata": {},
   "source": [
    "*args:\n",
    "This allows you to pass a variable number of non-keyword arguments to a function. The *args parameter collects these arguments into a tuple within the function."
   ]
  },
  {
   "cell_type": "code",
   "execution_count": 4,
   "id": "9ada764b-b910-45df-96f3-14e092bbbaf4",
   "metadata": {},
   "outputs": [
    {
     "name": "stdout",
     "output_type": "stream",
     "text": [
      "apple\n",
      "banana\n",
      "cherry\n"
     ]
    }
   ],
   "source": [
    "def example_function_with_args(*args):\n",
    "    for arg in args:\n",
    "        print(arg)\n",
    "\n",
    "example_function_with_args(\"apple\", \"banana\", \"cherry\")\n"
   ]
  },
  {
   "cell_type": "markdown",
   "id": "5f2126dd-5de9-4dd8-b416-d81ef6ce1c2c",
   "metadata": {},
   "source": [
    "**kwargs:\n",
    "This allows you to pass a variable number of keyword arguments (or named arguments) to a function. The **kwargs parameter collects these arguments into a dictionary within the function."
   ]
  },
  {
   "cell_type": "code",
   "execution_count": 5,
   "id": "f631ab29-816e-4920-8d08-8f8a1de944d2",
   "metadata": {},
   "outputs": [
    {
     "name": "stdout",
     "output_type": "stream",
     "text": [
      "fruit: apple\n",
      "color: red\n",
      "price: 0.5\n"
     ]
    }
   ],
   "source": [
    "def example_function_with_kwargs(**kwargs):\n",
    "    for key, value in kwargs.items():\n",
    "        print(f\"{key}: {value}\")\n",
    "\n",
    "example_function_with_kwargs(fruit=\"apple\", color=\"red\", price=0.5)\n"
   ]
  },
  {
   "cell_type": "markdown",
   "id": "a711829e-2e6f-46f3-8db5-d5747dfdf20a",
   "metadata": {},
   "source": [
    "Q3. What is an iterator in python? Name the method used to initialise the iterator object and the method\n",
    "used for iteration. Use these methods to print the first five elements of the given list [2, 4, 6, 8, 10, 12, 14,\n",
    "16, 18, 20]."
   ]
  },
  {
   "cell_type": "markdown",
   "id": "69e06a90-3887-426f-9e79-09f78c839fc5",
   "metadata": {},
   "source": [
    "In Python, an iterator is an object that implements two methods, __iter__() and __next__(), allowing it to produce values one at a time. Iterators are commonly used to loop through sequences or collections without needing to load the entire sequence into memory.\n",
    "\n",
    "The __iter__() method is used to initialize the iterator object.\n",
    "The __next__() method is used for iteration, returning the next value in the sequence."
   ]
  },
  {
   "cell_type": "code",
   "execution_count": 6,
   "id": "02de7ff7-3203-49b8-bcb5-362974fe1570",
   "metadata": {},
   "outputs": [
    {
     "name": "stdout",
     "output_type": "stream",
     "text": [
      "2\n",
      "4\n",
      "6\n",
      "8\n",
      "10\n"
     ]
    }
   ],
   "source": [
    "class MyIterator:\n",
    "    def __init__(self, data):\n",
    "        self.data = data\n",
    "        self.index = 0\n",
    "\n",
    "    def __iter__(self):\n",
    "        return self\n",
    "\n",
    "    def __next__(self):\n",
    "        if self.index < len(self.data):\n",
    "            value = self.data[self.index]\n",
    "            self.index += 1\n",
    "            return value\n",
    "        else:\n",
    "            raise StopIteration\n",
    "\n",
    "# Create an instance of the iterator\n",
    "my_list = [2, 4, 6, 8, 10, 12, 14, 16, 18, 20]\n",
    "my_iterator = MyIterator(my_list)\n",
    "\n",
    "# Iterate and print the first five elements\n",
    "for _ in range(5):\n",
    "    print(next(my_iterator))\n"
   ]
  },
  {
   "cell_type": "markdown",
   "id": "d5dfb953-8b10-4a9e-af55-cdf8dea21b95",
   "metadata": {},
   "source": [
    "Q4. What is a generator function in python? Why yield keyword is used? Give an example of a generator\n",
    "function."
   ]
  },
  {
   "cell_type": "markdown",
   "id": "2e6996d8-9aab-448b-a768-e08cddf91e1f",
   "metadata": {},
   "source": [
    "A generator function in Python is a special type of function that generates values on-the-fly rather than computing and storing them all at once. It uses the yield keyword to produce a series of values as you iterate over it. The key benefit of using generators is that they can save memory and improve efficiency, especially when dealing with large data sets or infinite sequences.\n",
    "\n",
    "The yield keyword is used in a generator function to pause its execution and \"yield\" a value to the caller. When the generator is iterated over, execution of the function is suspended at the yield statement, and the yielded value is returned. The state of the generator is maintained, allowing it to resume execution from where it left off when the next value is requested."
   ]
  },
  {
   "cell_type": "code",
   "execution_count": 8,
   "id": "279fe5da-04cc-42d3-af1f-7f4ad811581f",
   "metadata": {},
   "outputs": [
    {
     "name": "stdout",
     "output_type": "stream",
     "text": [
      "0\n",
      "2\n",
      "4\n",
      "6\n",
      "8\n"
     ]
    }
   ],
   "source": [
    "def even_numbers_generator(limit):\n",
    "    number = 0\n",
    "    while number < limit:\n",
    "        yield number\n",
    "        number += 2\n",
    "\n",
    "# Create a generator object\n",
    "even_gen = even_numbers_generator(10)\n",
    "\n",
    "# Iterate over the generator and print even numbers\n",
    "for num in even_gen:\n",
    "    print(num)\n"
   ]
  },
  {
   "cell_type": "markdown",
   "id": "af181599-50a6-4631-9dfd-8ba8882db2a3",
   "metadata": {},
   "source": [
    "Q5. Create a generator function for prime numbers less than 1000. Use the next() method to print the\n",
    "first 20 prime numbers."
   ]
  },
  {
   "cell_type": "code",
   "execution_count": 9,
   "id": "c5d36f5b-1a97-4788-aa50-f03454bc938a",
   "metadata": {},
   "outputs": [
    {
     "name": "stdout",
     "output_type": "stream",
     "text": [
      "2\n",
      "3\n",
      "5\n",
      "7\n",
      "11\n",
      "13\n",
      "17\n",
      "19\n",
      "23\n",
      "29\n",
      "31\n",
      "37\n",
      "41\n",
      "43\n",
      "47\n",
      "53\n",
      "59\n",
      "61\n",
      "67\n",
      "71\n"
     ]
    }
   ],
   "source": [
    "def is_prime(number):\n",
    "    if number <= 1:\n",
    "        return False\n",
    "    if number <= 3:\n",
    "        return True\n",
    "    if number % 2 == 0 or number % 3 == 0:\n",
    "        return False\n",
    "    i = 5\n",
    "    while i * i <= number:\n",
    "        if number % i == 0 or number % (i + 2) == 0:\n",
    "            return False\n",
    "        i += 6\n",
    "    return True\n",
    "\n",
    "def prime_generator(limit):\n",
    "    number = 2\n",
    "    count = 0\n",
    "    while count < limit:\n",
    "        if is_prime(number):\n",
    "            yield number\n",
    "            count += 1\n",
    "        number += 1\n",
    "\n",
    "# Create a generator object\n",
    "prime_gen = prime_generator(20)\n",
    "\n",
    "# Print the first 20 prime numbers using the next() method\n",
    "for _ in range(20):\n",
    "    print(next(prime_gen))\n"
   ]
  },
  {
   "cell_type": "markdown",
   "id": "a828e5ee-9984-49c4-b279-d5df707f7d78",
   "metadata": {},
   "source": [
    "Q6. Write a python program to print the first 10 Fibonacci numbers using a while loop."
   ]
  },
  {
   "cell_type": "code",
   "execution_count": 10,
   "id": "231d6c49-5ce2-4399-90b6-c62cd260cf65",
   "metadata": {},
   "outputs": [
    {
     "name": "stdout",
     "output_type": "stream",
     "text": [
      "0\n",
      "1\n",
      "1\n",
      "2\n",
      "3\n",
      "5\n",
      "8\n",
      "13\n",
      "21\n",
      "34\n"
     ]
    }
   ],
   "source": [
    "def fibonacci_sequence(n):\n",
    "    fib_sequence = [0, 1]  # Initialize with the first two Fibonacci numbers\n",
    "    while len(fib_sequence) < n:\n",
    "        next_fib = fib_sequence[-1] + fib_sequence[-2]\n",
    "        fib_sequence.append(next_fib)\n",
    "    return fib_sequence\n",
    "\n",
    "# Print the first 10 Fibonacci numbers\n",
    "fib_numbers = fibonacci_sequence(10)\n",
    "for num in fib_numbers:\n",
    "    print(num)\n"
   ]
  },
  {
   "cell_type": "markdown",
   "id": "3119135b-0194-4a66-9a8a-004edb6d2cdb",
   "metadata": {},
   "source": [
    "Q7. Write a List Comprehension to iterate through the given string: ‘pwskills’.\n",
    "Expected output: ['p', 'w', 's', 'k', 'i', 'l', 'l', 's']"
   ]
  },
  {
   "cell_type": "code",
   "execution_count": 11,
   "id": "91bc4f31-b33a-4acd-adf9-63f933826ef9",
   "metadata": {},
   "outputs": [
    {
     "name": "stdout",
     "output_type": "stream",
     "text": [
      "['p', 'w', 's', 'k', 'i', 'l', 'l', 's']\n"
     ]
    }
   ],
   "source": [
    "input_string = 'pwskills'\n",
    "output_list = [char for char in input_string if char in 'pwskills']\n",
    "print(output_list)\n"
   ]
  },
  {
   "cell_type": "markdown",
   "id": "63948d2c-faa8-4ba5-a591-5415e126206d",
   "metadata": {},
   "source": [
    "Q8. Write a python program to check whether a given number is Palindrome or not using a while loop."
   ]
  },
  {
   "cell_type": "markdown",
   "id": "eae9f944-83ba-445b-8c3b-88de69953d89",
   "metadata": {},
   "source": [
    "Python program to check whether a given number is a palindrome or not using a while loop:"
   ]
  },
  {
   "cell_type": "code",
   "execution_count": 13,
   "id": "a96ee2fc-1556-4fbe-9735-7181d4c6e71b",
   "metadata": {},
   "outputs": [
    {
     "name": "stdin",
     "output_type": "stream",
     "text": [
      "Enter a number:  10\n"
     ]
    },
    {
     "name": "stdout",
     "output_type": "stream",
     "text": [
      "10 is not a palindrome number.\n"
     ]
    }
   ],
   "source": [
    "def is_palindrome(number):\n",
    "    original_number = number\n",
    "    reverse = 0\n",
    "    while number > 0:\n",
    "        digit = number % 10\n",
    "        reverse = reverse * 10 + digit\n",
    "        number //= 10\n",
    "    return original_number == reverse\n",
    "\n",
    "# Input from the user\n",
    "num = int(input(\"Enter a number: \"))\n",
    "\n",
    "if is_palindrome(num):\n",
    "    print(f\"{num} is a palindrome number.\")\n",
    "else:\n",
    "    print(f\"{num} is not a palindrome number.\")\n"
   ]
  },
  {
   "cell_type": "markdown",
   "id": "133d328f-7372-42fb-a1e3-a0b44033c087",
   "metadata": {},
   "source": [
    "Q9. Write a code to print odd numbers from 1 to 100 using list comprehension."
   ]
  },
  {
   "cell_type": "code",
   "execution_count": 14,
   "id": "dc0a6da4-2082-4508-b0ed-c38ef3787320",
   "metadata": {},
   "outputs": [
    {
     "name": "stdout",
     "output_type": "stream",
     "text": [
      "[1, 3, 5, 7, 9, 11, 13, 15, 17, 19, 21, 23, 25, 27, 29, 31, 33, 35, 37, 39, 41, 43, 45, 47, 49, 51, 53, 55, 57, 59, 61, 63, 65, 67, 69, 71, 73, 75, 77, 79, 81, 83, 85, 87, 89, 91, 93, 95, 97, 99]\n"
     ]
    }
   ],
   "source": [
    "# Using a list comprehension to generate numbers from 1 to 100\n",
    "numbers = [x for x in range(1, 101)]\n",
    "\n",
    "# Using another list comprehension to filter out odd numbers\n",
    "odd_numbers = [num for num in numbers if num % 2 != 0]\n",
    "\n",
    "# Print the list of odd numbers\n",
    "print(odd_numbers)\n"
   ]
  }
 ],
 "metadata": {
  "kernelspec": {
   "display_name": "Python 3 (ipykernel)",
   "language": "python",
   "name": "python3"
  },
  "language_info": {
   "codemirror_mode": {
    "name": "ipython",
    "version": 3
   },
   "file_extension": ".py",
   "mimetype": "text/x-python",
   "name": "python",
   "nbconvert_exporter": "python",
   "pygments_lexer": "ipython3",
   "version": "3.10.8"
  }
 },
 "nbformat": 4,
 "nbformat_minor": 5
}
